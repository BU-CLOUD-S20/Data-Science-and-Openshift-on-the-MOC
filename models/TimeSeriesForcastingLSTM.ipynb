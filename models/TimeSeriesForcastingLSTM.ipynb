{
  "nbformat": 4,
  "nbformat_minor": 0,
  "metadata": {
    "colab": {
      "name": "TimeSeriesForcastingLSTM.ipynb",
      "provenance": [],
      "collapsed_sections": []
    },
    "kernelspec": {
      "name": "python3",
      "display_name": "Python 3"
    }
  },
  "cells": [
    {
      "cell_type": "code",
      "metadata": {
        "id": "HtryGPVltUza",
        "colab_type": "code",
        "colab": {}
      },
      "source": [
        "#link to the raw location of the file on which you want to test the models\n",
        "raw_link_to_github_file = 'https://raw.githubusercontent.com/numenta/NAB/master/data/artificialNoAnomaly/art_daily_no_noise.csv'"
      ],
      "execution_count": 0,
      "outputs": []
    },
    {
      "cell_type": "code",
      "metadata": {
        "id": "ed3elDy3tZqu",
        "colab_type": "code",
        "colab": {}
      },
      "source": [
        "debug = True\n",
        "number_of_features  = 5\n",
        "train_test_split_ratio = 0.8\n",
        "window = 3\n",
        "\n",
        "import warnings\n",
        "warnings.filterwarnings('ignore')"
      ],
      "execution_count": 0,
      "outputs": []
    },
    {
      "cell_type": "code",
      "metadata": {
        "id": "bhNVjfBmthXB",
        "colab_type": "code",
        "colab": {
          "base_uri": "https://localhost:8080/",
          "height": 503
        },
        "outputId": "2e3a78b5-1a1f-4170-ef13-70275a65a74b"
      },
      "source": [
        "import pandas as pd\n",
        "\n",
        "df = pd.read_csv(raw_link_to_github_file)\n",
        "if(debug): \n",
        "  print(df.head)\n",
        "\n",
        "df['value'].plot()\n",
        "np_arr = df.values"
      ],
      "execution_count": 34,
      "outputs": [
        {
          "output_type": "stream",
          "text": [
            "<bound method NDFrame.head of                 timestamp     value\n",
            "0     2014-04-01 00:00:00  20.00000\n",
            "1     2014-04-01 00:05:00  20.00000\n",
            "2     2014-04-01 00:10:00  20.00000\n",
            "3     2014-04-01 00:15:00  20.00000\n",
            "4     2014-04-01 00:20:00  20.00000\n",
            "...                   ...       ...\n",
            "4027  2014-04-14 23:35:00  20.00384\n",
            "4028  2014-04-14 23:40:00  20.00384\n",
            "4029  2014-04-14 23:45:00  20.00384\n",
            "4030  2014-04-14 23:50:00  20.00384\n",
            "4031  2014-04-14 23:55:00  20.00384\n",
            "\n",
            "[4032 rows x 2 columns]>\n"
          ],
          "name": "stdout"
        },
        {
          "output_type": "display_data",
          "data": {
            "image/png": "[encoded data removed]",
            "text/plain": [
              "<Figure size 432x288 with 1 Axes>"
            ]
          },
          "metadata": {
            "tags": []
          }
        }
      ]
    },
    {
      "cell_type": "code",
      "metadata": {
        "id": "XH-Y3aNxthyA",
        "colab_type": "code",
        "colab": {
          "base_uri": "https://localhost:8080/",
          "height": 306
        },
        "outputId": "a8b540e2-f25b-4103-a726-01dea6f715e1"
      },
      "source": [
        "train = np_arr[:int(np_arr.shape[0]*train_test_split_ratio),:]\n",
        "test = np_arr[int(np_arr.shape[0]*train_test_split_ratio):,:]\n",
        "print('size',np_arr.shape[0])\n",
        "print('number of examples in train',train.shape[0])\n",
        "print('number of examples in test',test.shape[0])\n",
        "\n",
        "if(debug):\n",
        "  print(train)\n",
        "  print(test)\n",
        "  "
      ],
      "execution_count": 35,
      "outputs": [
        {
          "output_type": "stream",
          "text": [
            "size 4032\n",
            "number of examples in train 3225\n",
            "number of examples in test 807\n",
            "[['2014-04-01 00:00:00' 20.0]\n",
            " ['2014-04-01 00:05:00' 20.0]\n",
            " ['2014-04-01 00:10:00' 20.0]\n",
            " ...\n",
            " ['2014-04-12 04:30:00' 20.0]\n",
            " ['2014-04-12 04:35:00' 20.0]\n",
            " ['2014-04-12 04:40:00' 20.0]]\n",
            "[['2014-04-12 04:45:00' 20.0]\n",
            " ['2014-04-12 04:50:00' 20.0]\n",
            " ['2014-04-12 04:55:00' 20.0]\n",
            " ...\n",
            " ['2014-04-14 23:45:00' 20.003839998]\n",
            " ['2014-04-14 23:50:00' 20.003839998]\n",
            " ['2014-04-14 23:55:00' 20.003839998]]\n"
          ],
          "name": "stdout"
        }
      ]
    },
    {
      "cell_type": "code",
      "metadata": {
        "id": "tCFURKlotzsK",
        "colab_type": "code",
        "colab": {
          "base_uri": "https://localhost:8080/",
          "height": 85
        },
        "outputId": "29b98801-5930-477e-d8d5-c38ccd951f8e"
      },
      "source": [
        "_#data prep\n",
        "import numpy as np\n",
        "\n",
        "train_x = np.array(train[:,1])[np.newaxis, :].T\n",
        "test_x = np.array(test[:,1])[np.newaxis, :].T\n",
        "for i in range(number_of_features):\n",
        "  train_x = np.concatenate((train_x, np.roll(train[:,1],-i)[np.newaxis,:].T), axis=1)\n",
        "  test_x = np.concatenate((test_x, np.roll(test[:,1],-i)[np.newaxis,:].T), axis=1)\n",
        "\n",
        "train_x = train_x[:train_x.shape[0]-number_of_features,:number_of_features]\n",
        "test_x = test_x[:test_x.shape[0]-number_of_features,:number_of_features]\n",
        "\n",
        "train_y = np.roll(train[:,1],-number_of_features)\n",
        "train_y = train_y[:train_y.shape[0]-number_of_features]\n",
        "\n",
        "test_y = np.roll(test[:,1],-number_of_features)\n",
        "test_y = test_y[:test_y.shape[0]-number_of_features]\n",
        "\n",
        "if(debug):\n",
        "  print(train_x.shape)\n",
        "  print(train_y.shape)\n",
        "  print(test_x.shape)\n",
        "  print(test_y.shape)\n",
        "  "
      ],
      "execution_count": 36,
      "outputs": [
        {
          "output_type": "stream",
          "text": [
            "(3220, 5)\n",
            "(3220,)\n",
            "(802, 5)\n",
            "(802,)\n"
          ],
          "name": "stdout"
        }
      ]
    },
    {
      "cell_type": "code",
      "metadata": {
        "id": "nontGDeaDSIs",
        "colab_type": "code",
        "colab": {
          "base_uri": "https://localhost:8080/",
          "height": 51
        },
        "outputId": "8f558b5d-fff6-406c-cc2d-b50b04baf1b7"
      },
      "source": [
        "train_x = train_x.reshape(train_x.shape[0],1,train_x.shape[1])\n",
        "test_x = test_x.reshape(test_x.shape[0],1,test_x.shape[1])\n",
        "if(debug):\n",
        "  print(train_x.shape)\n",
        "  print(test_x.shape)\n",
        "\n",
        "\n"
      ],
      "execution_count": 37,
      "outputs": [
        {
          "output_type": "stream",
          "text": [
            "(3220, 1, 5)\n",
            "(802, 1, 5)\n"
          ],
          "name": "stdout"
        }
      ]
    },
    {
      "cell_type": "code",
      "metadata": {
        "id": "EQmeQJ1NXVv2",
        "colab_type": "code",
        "colab": {
          "base_uri": "https://localhost:8080/",
          "height": 374
        },
        "outputId": "6e1e18f3-8cf6-4fb1-b4c9-b976e5c7d1f5"
      },
      "source": [
        "#keras\n",
        "from keras.models import Sequential\n",
        "from keras.layers import Dense, Activation\n",
        "from keras.layers import LSTM\n",
        "from sklearn.preprocessing import MinMaxScaler\n",
        "from sklearn.metrics import mean_squared_error\n",
        "\n",
        "model = Sequential()\n",
        "model.add(LSTM(50,input_shape=(1,5)))\n",
        "model.add(Dense(20))\n",
        "model.add(Dense(1))\n",
        "\n",
        "model.compile(loss='mean_squared_error', optimizer='adam')\n",
        "model.fit(train_x, train_y, epochs=10, batch_size=1, verbose=2)\n"
      ],
      "execution_count": 38,
      "outputs": [
        {
          "output_type": "stream",
          "text": [
            "Epoch 1/10\n",
            " - 9s - loss: 255.1238\n",
            "Epoch 2/10\n",
            " - 8s - loss: 61.0920\n",
            "Epoch 3/10\n",
            " - 8s - loss: 66.8325\n",
            "Epoch 4/10\n",
            " - 8s - loss: 46.4549\n",
            "Epoch 5/10\n",
            " - 8s - loss: 42.7972\n",
            "Epoch 6/10\n",
            " - 8s - loss: 106.6157\n",
            "Epoch 7/10\n",
            " - 8s - loss: 61.9632\n",
            "Epoch 8/10\n",
            " - 8s - loss: 45.3407\n",
            "Epoch 9/10\n",
            " - 8s - loss: 44.0985\n",
            "Epoch 10/10\n",
            " - 8s - loss: 40.9292\n"
          ],
          "name": "stdout"
        },
        {
          "output_type": "execute_result",
          "data": {
            "text/plain": [
              "<keras.callbacks.History at 0x7f9a8feebd68>"
            ]
          },
          "metadata": {
            "tags": []
          },
          "execution_count": 38
        }
      ]
    },
    {
      "cell_type": "code",
      "metadata": {
        "id": "v5Qm0dyuadP5",
        "colab_type": "code",
        "colab": {}
      },
      "source": [
        "pred_t = model.predict(test_x)"
      ],
      "execution_count": 0,
      "outputs": []
    },
    {
      "cell_type": "code",
      "metadata": {
        "id": "n_F4ELVsai4D",
        "colab_type": "code",
        "colab": {
          "base_uri": "https://localhost:8080/",
          "height": 265
        },
        "outputId": "a014f8a6-4aa9-4cd2-c5a9-7e1e2a74066c"
      },
      "source": [
        "from matplotlib import pyplot as plt\n",
        "\n",
        "plt.plot(pred_t, label='pred_1')\n",
        "#plt.plot(prophet_predictions[1], label='pred_3')\n",
        "plt.plot(test_y,label='actual')\n",
        "plt.legend()\n",
        "plt.show()"
      ],
      "execution_count": 40,
      "outputs": [
        {
          "output_type": "display_data",
          "data": {
            "image/png": "[encoded data removed]",
            "text/plain": [
              "<Figure size 432x288 with 1 Axes>"
            ]
          },
          "metadata": {
            "tags": []
          }
        }
      ]
    },
    {
      "cell_type": "code",
      "metadata": {
        "id": "AhmDIrY0a0Jg",
        "colab_type": "code",
        "colab": {}
      },
      "source": [
        "#TRIED PY-TORCH"
      ],
      "execution_count": 0,
      "outputs": []
    },
    {
      "cell_type": "code",
      "metadata": {
        "id": "WSWJEwCpazab",
        "colab_type": "code",
        "colab": {
          "base_uri": "https://localhost:8080/",
          "height": 119
        },
        "outputId": "cd14d3bf-8327-48a9-dc55-2d550000c4db"
      },
      "source": [
        "# import torch\n",
        "# import torch.nn as nn\n",
        "\n",
        "# class LSTMtsf(nn.Module):\n",
        "#   def __init__(self,input_dim,hidden_dim,output_dim,dropout=False):\n",
        "#     super(LSTMtsf, self).__init__()\n",
        "#     self.drpout = dropout\n",
        "#     self.lstm1 = nn.LSTM(input_dim, hidden_dim,1)\n",
        "#     if(self.drpout):\n",
        "#       self.drp1 = nn.Dropout(p=0.3)\n",
        "#     self.lin1 = nn.Linear(50,20,output_dim)\n",
        "#     self.lin2 = nn.Linear(20,output_dim)\n",
        "  \n",
        "#   def forward(self,x):\n",
        "#     x = self.lstm1(x)\n",
        "#     if(self.drpout):\n",
        "#       x = self.drp1(x[0])\n",
        "#     x = self.lin1(x)\n",
        "#     x = self.lin2(x)\n",
        "#     return x\n",
        "\n",
        "# model = LSTMtsf(5,50,1,True)\n",
        "# print(model)\n",
        "\n"
      ],
      "execution_count": 22,
      "outputs": [
        {
          "output_type": "stream",
          "text": [
            "LSTMtsf(\n",
            "  (lstm1): LSTM(5, 50)\n",
            "  (drp1): Dropout(p=0.3, inplace=False)\n",
            "  (lin1): Linear(in_features=50, out_features=20, bias=True)\n",
            "  (lin2): Linear(in_features=20, out_features=1, bias=True)\n",
            ")\n"
          ],
          "name": "stdout"
        }
      ]
    },
    {
      "cell_type": "code",
      "metadata": {
        "id": "SG5fTvoVNqGv",
        "colab_type": "code",
        "colab": {
          "base_uri": "https://localhost:8080/",
          "height": 34
        },
        "outputId": "8f327fbb-5881-4345-b620-7975dae7686c"
      },
      "source": [
        "# train_x_torch = torch.from_numpy(train_x.astype(float))\n",
        "# test_x_torch = torch.from_numpy(test_x.astype(float))\n",
        "# train_y_torch = torch.from_numpy(train_y.reshape(train_y.shape[0],1).astype(float))\n",
        "# test_y_torch = torch.from_numpy(test_y.reshape(test_y.shape[0],1).astype(float))\n",
        "\n",
        "# if(debug):\n",
        "#   print(train_x_torch.size())"
      ],
      "execution_count": 23,
      "outputs": [
        {
          "output_type": "stream",
          "text": [
            "torch.Size([3220, 1, 5])\n"
          ],
          "name": "stdout"
        }
      ]
    },
    {
      "cell_type": "code",
      "metadata": {
        "id": "SCsuON2OEXee",
        "colab_type": "code",
        "colab": {
          "base_uri": "https://localhost:8080/",
          "height": 187
        },
        "outputId": "a084f231-147e-4165-d965-48577eb1d522"
      },
      "source": [
        "# #training\n",
        "\n",
        "# optimizer = torch.optim.SGD(model.parameters(), lr=0.2)\n",
        "# loss_fn = nn.MSELoss()\n",
        "# model.double()\n",
        "# epochs = 10\n",
        "# for t in range(epochs):\n",
        "#     y_pred = model(train_x_torch)\n",
        "#     loss = loss_fn(y_pred, train_y_torch)\n",
        "#     print(t, loss.item())\n",
        "#     optimizer.zero_grad()\n",
        "#     loss.backward()\n",
        "#     optimizer.step()\n",
        "  \n",
        "\n"
      ],
      "execution_count": 24,
      "outputs": [
        {
          "output_type": "stream",
          "text": [
            "0 2555.24220794487\n",
            "1 4318.947820529031\n",
            "2 72067074095.68039\n",
            "3 6.248394523613242e+31\n",
            "4 4.6510413830144235e+94\n",
            "5 1.7001071893894617e+284\n",
            "6 nan\n",
            "7 nan\n",
            "8 nan\n",
            "9 nan\n"
          ],
          "name": "stdout"
        }
      ]
    },
    {
      "cell_type": "code",
      "metadata": {
        "id": "r8gmz8-oOtS9",
        "colab_type": "code",
        "colab": {}
      },
      "source": [
        "# y_pred = model(test_x_torch)\n",
        "# loss = loss_fn(y_pred, test_y_torch)\n",
        "# loss"
      ],
      "execution_count": 0,
      "outputs": []
    },
    {
      "cell_type": "code",
      "metadata": {
        "id": "jI3hn2TSVp58",
        "colab_type": "code",
        "colab": {}
      },
      "source": [
        "# y_pred.detach().numpy().flatten()"
      ],
      "execution_count": 0,
      "outputs": []
    }
  ]
}
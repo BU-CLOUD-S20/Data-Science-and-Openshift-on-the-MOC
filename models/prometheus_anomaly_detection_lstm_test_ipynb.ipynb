{
  "nbformat": 4,
  "nbformat_minor": 0,
  "metadata": {
    "accelerator": "GPU",
    "colab": {
      "name": "prometheus_anomaly_detection_lstm_test.ipynb.ipynb",
      "provenance": [],
      "collapsed_sections": []
    },
    "kernelspec": {
      "display_name": "Python 3",
      "language": "python",
      "name": "python3"
    },
    "language_info": {
      "codemirror_mode": {
        "name": "ipython",
        "version": 3
      },
      "file_extension": ".py",
      "mimetype": "text/x-python",
      "name": "python",
      "nbconvert_exporter": "python",
      "pygments_lexer": "ipython3",
      "version": "3.6.3"
    }
  },
  "cells": [
    {
      "cell_type": "markdown",
      "metadata": {
        "id": "9n4pIu0VMsja",
        "colab_type": "text"
      },
      "source": [
        "\n",
        "# LSTM Model for Prometheus Anomaly Detection\n",
        "The final polished implementation of the LSTM (Long Short Term Memory) model for time series forecasting of Prometheus metrics.\n",
        "\n",
        "This notebook contains the following functionalities:\n",
        "\n",
        "## Data Pre-Processing\n",
        "\n",
        "*   Load real metric data from prometheus using prometheus API client\n",
        "*   Fetch metric timestamp and corresponding metric value from the data set\n",
        "*   Convert the dataframe into timeseries format\n",
        "*   Rescale time-series between 0-1\n",
        "*   Roll the data using number_of_features to create features and labels\n",
        "\n",
        "\n",
        "## Data Modelling\n",
        "\n",
        "*   Train the LSTM model with the required parameters\n",
        "*   Automate tuning the LSTM architecture \n",
        "*   Forecast the predictions on the test data set\n",
        "*   Evaluate the predictions for detecting anomalies"
      ]
    },
    {
      "cell_type": "markdown",
      "metadata": {
        "id": "kdoI2VnVMjsA",
        "colab_type": "text"
      },
      "source": [
        "### Model Dependancies"
      ]
    },
    {
      "cell_type": "markdown",
      "metadata": {
        "id": "vJBay5TcOn4R",
        "colab_type": "text"
      },
      "source": [
        "#### Modules"
      ]
    },
    {
      "cell_type": "code",
      "metadata": {
        "colab_type": "code",
        "id": "05WAmt8eLs6S",
        "colab": {}
      },
      "source": [
        "!pip install --upgrade pip\n",
        "!pip install uuid > /dev/null\n",
        "!pip install --upgrade setuptools > /dev/null\n",
        "!pip install --upgrade scipy numba matplotlib pandas > /dev/null\n",
        "!pip install prometheus-api-client mlflow keras tensorflow > /dev/null\n",
        "!pip install tensorflow==1.14 > /dev/null\n",
        "print(\"Done\")"
      ],
      "execution_count": 0,
      "outputs": []
    },
    {
      "cell_type": "markdown",
      "metadata": {
        "id": "dus3aWIoOjFJ",
        "colab_type": "text"
      },
      "source": [
        "#### Imports"
      ]
    },
    {
      "cell_type": "code",
      "metadata": {
        "id": "6ErfEmjlLHhz",
        "colab_type": "code",
        "colab": {}
      },
      "source": [
        "# Important Imports\n",
        "from prometheus_api_client import Metric, MetricsList, PrometheusConnect\n",
        "from prometheus_api_client.utils import parse_datetime, parse_timedelta\n",
        "from sklearn.preprocessing import MinMaxScaler\n",
        "from matplotlib import pyplot as plt\n",
        "import pandas as pd\n",
        "import numpy as np\n",
        "from keras.models import Sequential\n",
        "from keras.layers import Dense, LSTM\n",
        "from sklearn.preprocessing import MinMaxScaler\n",
        "import warnings\n",
        "warnings.filterwarnings('ignore')"
      ],
      "execution_count": 0,
      "outputs": []
    },
    {
      "cell_type": "markdown",
      "metadata": {
        "id": "sXXvXLPILeu4",
        "colab_type": "text"
      },
      "source": [
        "### Useful Functions"
      ]
    },
    {
      "cell_type": "code",
      "metadata": {
        "id": "4xhZxJhZLS7M",
        "colab_type": "code",
        "colab": {}
      },
      "source": [
        "def process_data(number_of_features, train_test_split_ratio, df):\n",
        "    np_arr = df.values\n",
        "    scaler = MinMaxScaler(feature_range = (0, 1))\n",
        "    scaled_np_arr = scaler.fit_transform(np_arr[:,1].reshape(-1, 1))\n",
        "    np_arr[:,1] = scaled_np_arr.flatten()\n",
        "\n",
        "    train = np_arr[:int(np_arr.shape[0]*train_test_split_ratio),:]\n",
        "    test = np_arr[int(np_arr.shape[0]*train_test_split_ratio):,:]\n",
        "\n",
        "    train_x = np.array(train[:,1])[np.newaxis, :].T\n",
        "    test_x = np.array(test[:,1])[np.newaxis, :].T\n",
        "    \n",
        "    for i in range(number_of_features):\n",
        "        train_x = np.concatenate((train_x, np.roll(train[:,1],-i)[np.newaxis,:].T), axis=1)\n",
        "        test_x = np.concatenate((test_x, np.roll(test[:,1],-i)[np.newaxis,:].T), axis=1)\n",
        "\n",
        "    train_x = train_x[:train_x.shape[0]-number_of_features,:number_of_features]\n",
        "    test_x = test_x[:test_x.shape[0]-number_of_features,:number_of_features]\n",
        "\n",
        "    train_y = np.roll(train[:,1],-number_of_features)\n",
        "    train_y = train_y[:train_y.shape[0]-number_of_features]\n",
        "\n",
        "    test_y = np.roll(test[:,1],-number_of_features)\n",
        "    test_y = test_y[:test_y.shape[0]-number_of_features]\n",
        "    train_x = train_x.reshape(train_x.shape[0],1,train_x.shape[1])\n",
        "    test_x = test_x.reshape(test_x.shape[0],1,test_x.shape[1])\n",
        "\n",
        "    return (train_x, train_y, test_x, test_y, scaler)"
      ],
      "execution_count": 0,
      "outputs": []
    },
    {
      "cell_type": "code",
      "metadata": {
        "colab_type": "code",
        "id": "YjSVr5v-LvbS",
        "colab": {}
      },
      "source": [
        "class Specs:\n",
        "    def __init__(self, DenseCount = 0, LSTMCount = 0, epochs = 0, loss = np.inf):\n",
        "        self.DenseCount = DenseCount\n",
        "        self.LSTMCount = LSTMCount\n",
        "        self.loss = loss\n",
        "        self.epochs = epochs\n",
        "\n",
        "    def __str__(self):\n",
        "        return (str(self.LSTMCount) + \" \" + str(self.DenseCount) + \" \" + str(self.epochs)  + \" \" + str(self.loss))"
      ],
      "execution_count": 0,
      "outputs": []
    },
    {
      "cell_type": "code",
      "metadata": {
        "id": "mMAKs70YLXfJ",
        "colab_type": "code",
        "colab": {}
      },
      "source": [
        "def trainLSTM(specs):\n",
        "    model = Sequential()\n",
        "    model.add(LSTM(64, return_sequences = True, input_shape=(1,number_of_features)))\n",
        "    model.add(LSTM(specs.LSTMCount))\n",
        "    model.add(Dense(specs.DenseCount))\n",
        "    model.add(Dense(1))\n",
        "\n",
        "    model.compile(loss='mean_squared_error', optimizer='adam')\n",
        "    history = model.fit(train_x, train_y, epochs = specs.epochs, batch_size = 512, verbose = 0, validation_split=0.2)\n",
        "\n",
        "    return (model, history)"
      ],
      "execution_count": 0,
      "outputs": []
    },
    {
      "cell_type": "code",
      "metadata": {
        "id": "rIuKOSvsLJ2l",
        "colab_type": "code",
        "colab": {}
      },
      "source": [
        "def loss_curve(history):\n",
        "    train_loss = history.history['loss']\n",
        "    val_loss = history.history['val_loss']\n",
        "\n",
        "    x_axis = range(1, len(history.history['loss'])+1)\n",
        "\n",
        "    plt.figure()\n",
        "    plt.plot(x_axis, train_loss, label=\"Training Loss\")\n",
        "\n",
        "    plt.plot(x_axis, val_loss, label=\"Validation Loss\")\n",
        "\n",
        "    plt.ylabel('Loss Value')\n",
        "    plt.xlabel('Epochs')\n",
        "    plt.title('Epochs vs Loss')\n",
        "    plt.legend()\n",
        "\n",
        "    print('Minimum Validation Loss is:' + str(min(val_loss)))\n",
        "    print('Epoch: ' + str(val_loss.index(min(val_loss)) + 1))"
      ],
      "execution_count": 0,
      "outputs": []
    },
    {
      "cell_type": "code",
      "metadata": {
        "id": "MVvABg_BLbzo",
        "colab_type": "code",
        "colab": {}
      },
      "source": [
        "def mse(actual: np.ndarray, predicted: np.ndarray):\n",
        "    \"\"\" Mean Squared Error \"\"\"\n",
        "    return np.mean(np.square(actual - predicted))"
      ],
      "execution_count": 0,
      "outputs": []
    },
    {
      "cell_type": "markdown",
      "metadata": {
        "id": "t681FHFCLvJK",
        "colab_type": "text"
      },
      "source": [
        "### Accuiring Prometheus Data"
      ]
    },
    {
      "cell_type": "code",
      "metadata": {
        "colab_type": "code",
        "id": "vmiw94FxLwEv",
        "outputId": "6a38638d-9c4b-4f42-c2ff-424d0745814d",
        "colab": {
          "base_uri": "https://localhost:8080/",
          "height": 370
        }
      },
      "source": [
        "link = \"http://prometheus-lts-data-science-on-the-moc-openshift.k-apps.osh.massopen.cloud\"\n",
        "\n",
        "pc = PrometheusConnect(url=link, disable_ssl=True)\n",
        "\n",
        "start_time = parse_datetime(\"3d\")\n",
        "end_time = parse_datetime(\"now\")\n",
        "chunk_size = parse_timedelta(\"now\", \"1d\")\n",
        "\n",
        "metric1 = 'request_duration_seconds_count{app=\"jupyterhub\",code=\"302\",deployment=\"jupyterhub-7\",deploymentconfig=\"jupyterhub\",handler=\"jupyterhub.handlers.base.PrefixRedirectHandler\",instance=\"10.128.5.199:8080\",job=\"kubernetes-pods\",kubernetes_namespace=\"data-science-on-the-moc-openshift\",kubernetes_pod_name=\"jupyterhub-7-hd8d9\",method=\"GET\"}'\n",
        "metric2 = 'scrape_duration_seconds{app=\"jupyterhub\",deployment=\"jupyterhub-7\",deploymentconfig=\"jupyterhub\",instance=\"10.128.5.199:8080\",job=\"kubernetes-pods\",kubernetes_namespace=\"data-science-on-the-moc-openshift\",kubernetes_pod_name=\"jupyterhub-7-hd8d9\"}'\n",
        "\n",
        "metric_data = pc.get_metric_range_data(\n",
        "    metric2,\n",
        "    start_time=start_time,\n",
        "    end_time=end_time,\n",
        "    chunk_size=chunk_size,\n",
        ")\n",
        "\n",
        "metrics_object_list = MetricsList(metric_data)\n",
        "print(len(metrics_object_list))\n",
        "for item in metrics_object_list:\n",
        "    print(type(item))\n",
        "    \n",
        "for item in metrics_object_list:\n",
        "    print(item.metric_name, item.label_config, \"\\n\")\n",
        "    \n",
        "my_metric_object = metrics_object_list[0] # one of the metrics from the list\n",
        "\n",
        "my_metric_object.metric_values['y'].plot()"
      ],
      "execution_count": 0,
      "outputs": [
        {
          "output_type": "stream",
          "text": [
            "1\n",
            "<class 'prometheus_api_client.metric.Metric'>\n",
            "scrape_duration_seconds {'app': 'jupyterhub', 'deployment': 'jupyterhub-7', 'deploymentconfig': 'jupyterhub', 'instance': '10.128.5.199:8080', 'job': 'kubernetes-pods', 'kubernetes_namespace': 'data-science-on-the-moc-openshift', 'kubernetes_pod_name': 'jupyterhub-7-hd8d9'} \n",
            "\n"
          ],
          "name": "stdout"
        },
        {
          "output_type": "execute_result",
          "data": {
            "text/plain": [
              "<matplotlib.axes._subplots.AxesSubplot at 0x7f86cc6f2470>"
            ]
          },
          "metadata": {
            "tags": []
          },
          "execution_count": 9
        },
        {
          "output_type": "display_data",
          "data": {
            "image/png": "[encoded data removed]",
            "text/plain": [
              "<Figure size 432x288 with 1 Axes>"
            ]
          },
          "metadata": {
            "tags": [],
            "needs_background": "light"
          }
        }
      ]
    },
    {
      "cell_type": "markdown",
      "metadata": {
        "id": "NxjnIjuBMScH",
        "colab_type": "text"
      },
      "source": [
        "### Building Model"
      ]
    },
    {
      "cell_type": "markdown",
      "metadata": {
        "id": "cfMLk2rXL-fl",
        "colab_type": "text"
      },
      "source": [
        "#### Tuning Hyperparameters"
      ]
    },
    {
      "cell_type": "code",
      "metadata": {
        "colab_type": "code",
        "id": "SoLpZRYkMD_6",
        "outputId": "c0f6dda3-f70e-4a04-b27f-812423e68f92",
        "colab": {
          "base_uri": "https://localhost:8080/",
          "height": 85
        }
      },
      "source": [
        "number_of_features = 10\n",
        "(train_x, train_y, test_x, test_y, scaler) = process_data(number_of_features, 0.8, my_metric_object.metric_values)\n",
        "\n",
        "# Tuning Hyperparameters\n",
        "bestSpecs = Specs()\n",
        "for i in range(5, 8):\n",
        "    LSTMCount = 2**i\n",
        "    for j in range(5, 8):\n",
        "        DenseCount = 2**j\n",
        "\n",
        "        newSpecs = Specs(DenseCount, LSTMCount, 50)\n",
        "\n",
        "        model, history = trainLSTM(newSpecs)\n",
        "        val_loss = history.history['val_loss']\n",
        "        loss = min(val_loss)\n",
        "\n",
        "        if (loss < bestSpecs.loss):\n",
        "            bestSpecs = newSpecs\n",
        "            bestSpecs.loss = loss\n",
        "            bestSpecs.epochs = val_loss.index(min(val_loss)) + 1\n",
        "            print(\"New Results:\", bestSpecs)"
      ],
      "execution_count": 0,
      "outputs": [
        {
          "output_type": "stream",
          "text": [
            "New Results: 32 32 38 4.38543799478924e-05\n",
            "New Results: 32 64 12 4.377828998976145e-05\n"
          ],
          "name": "stdout"
        }
      ]
    },
    {
      "cell_type": "markdown",
      "metadata": {
        "id": "v9987wT4MPBg",
        "colab_type": "text"
      },
      "source": [
        "#### Training Final Model"
      ]
    },
    {
      "cell_type": "code",
      "metadata": {
        "colab_type": "code",
        "id": "QyiqWPaOfc9v",
        "outputId": "8a5cd235-2bed-47d4-bfc1-d03bffbe13bd",
        "colab": {
          "base_uri": "https://localhost:8080/",
          "height": 1000
        }
      },
      "source": [
        "# Train final model\n",
        "bestSpecs.epochs = 50\n",
        "print(\"Now training on\", bestSpecs)\n",
        "finalmodel, history = trainLSTM(bestSpecs)\n",
        "loss_curve(history)"
      ],
      "execution_count": 0,
      "outputs": [
        {
          "output_type": "stream",
          "text": [
            "Now training on 128 128 50 6.41665149178342e-07\n",
            "Minimum Validation Loss is:5.319115320672024e-06\n",
            "Epoch: 49\n"
          ],
          "name": "stdout"
        },
        {
          "output_type": "display_data",
          "data": {
            "image/png": "[encoded data removed]",
            "text/plain": [
              "<Figure size 432x288 with 1 Axes>"
            ]
          },
          "metadata": {
            "tags": [],
            "needs_background": "light"
          }
        }
      ]
    },
    {
      "cell_type": "markdown",
      "metadata": {
        "id": "ay78fgl-MZUr",
        "colab_type": "text"
      },
      "source": [
        "### Testing Final Model"
      ]
    },
    {
      "cell_type": "code",
      "metadata": {
        "colab_type": "code",
        "id": "jWSarbE9MF0Q",
        "outputId": "f028f811-2621-405f-895c-e76f3991d2d0",
        "colab": {
          "base_uri": "https://localhost:8080/",
          "height": 299
        }
      },
      "source": [
        "# Evaluate Test Predictions after training on metric 1\n",
        "pred_t = finalmodel.predict(test_x)\n",
        "pred_t_inverse = scaler.inverse_transform(pred_t)\n",
        "test_y_inverse = scaler.inverse_transform(test_y.reshape(-1, 1))\n",
        "\n",
        "print(\"Results\")\n",
        "plt.figure()\n",
        "plt.plot(test_y_inverse, label = 'actual')\n",
        "# plt.legend()\n",
        "# plt.figure()\n",
        "plt.plot(pred_t_inverse, label = 'pred')\n",
        "plt.legend()\n",
        "plt.show()\n",
        "\n",
        "print(mse(pred_t_inverse, test_y_inverse))"
      ],
      "execution_count": 0,
      "outputs": [
        {
          "output_type": "stream",
          "text": [
            "Results\n"
          ],
          "name": "stdout"
        },
        {
          "output_type": "display_data",
          "data": {
            "image/png": "[encoded data removed]",
            "text/plain": [
              "<Figure size 432x288 with 1 Axes>"
            ]
          },
          "metadata": {
            "tags": [],
            "needs_background": "light"
          }
        },
        {
          "output_type": "stream",
          "text": [
            "284.29205303903785\n"
          ],
          "name": "stdout"
        }
      ]
    },
    {
      "cell_type": "code",
      "metadata": {
        "id": "qMMsrNXzK4u5",
        "colab_type": "code",
        "colab": {},
        "outputId": "943c595b-e1e3-4688-ba01-09eaf1cb5577"
      },
      "source": [
        "# Evaluate Test Predictions after training on metric 2\n",
        "pred_t = finalmodel.predict(test_x)\n",
        "pred_t_inverse = scaler.inverse_transform(pred_t)\n",
        "test_y_inverse = scaler.inverse_transform(test_y.reshape(-1, 1))\n",
        "\n",
        "print(\"Results\")\n",
        "plt.figure()\n",
        "plt.plot(test_y_inverse, label = 'actual')\n",
        "plt.legend()\n",
        "print('\\n')\n",
        "plt.figure()\n",
        "plt.plot(pred_t_inverse, label = 'pred')\n",
        "plt.legend()\n",
        "plt.show()\n",
        "\n",
        "print(mse(pred_t_inverse, test_y_inverse))"
      ],
      "execution_count": 0,
      "outputs": [
        {
          "output_type": "stream",
          "text": [
            "Results\n",
            "\n",
            "\n"
          ],
          "name": "stdout"
        },
        {
          "output_type": "display_data",
          "data": {
            "image/png": "[encoded data removed]",
            "text/plain": [
              "<Figure size 432x288 with 1 Axes>"
            ]
          },
          "metadata": {
            "tags": [],
            "needs_background": "light"
          }
        },
        {
          "output_type": "display_data",
          "data": {
            "image/png": "[encoded data removed]",
            "text/plain": [
              "<Figure size 432x288 with 1 Axes>"
            ]
          },
          "metadata": {
            "tags": [],
            "needs_background": "light"
          }
        },
        {
          "output_type": "stream",
          "text": [
            "5.667958254778516e-05\n"
          ],
          "name": "stdout"
        }
      ]
    }
  ]
}
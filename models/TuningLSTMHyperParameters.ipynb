{
  "nbformat": 4,
  "nbformat_minor": 0,
  "metadata": {
    "colab": {
      "name": "TuningHyperParameters.ipynb",
      "provenance": [],
      "collapsed_sections": []
    },
    "kernelspec": {
      "name": "python3",
      "display_name": "Python 3"
    },
    "accelerator": "GPU"
  },
  "cells": [
    {
      "cell_type": "code",
      "metadata": {
        "id": "05WAmt8eLs6S",
        "colab_type": "code",
        "outputId": "2a1202a1-5a4e-4fe8-e84e-09bde7a6a97b",
        "colab": {
          "base_uri": "https://localhost:8080/",
          "height": 34
        }
      },
      "source": [
        "!pip install --upgrade pip scipy numba matplotlib pandas > /dev/null\n",
        "!pip install prometheus-api-client uuid mlflow keras tensorflow > /dev/null\n",
        "!pip install tensorflow==1.14 > /dev/null\n",
        "print(\"Done\")"
      ],
      "execution_count": 5,
      "outputs": [
        {
          "output_type": "stream",
          "text": [
            "Done\n"
          ],
          "name": "stdout"
        }
      ]
    },
    {
      "cell_type": "code",
      "metadata": {
        "id": "YjSVr5v-LvbS",
        "colab_type": "code",
        "colab": {}
      },
      "source": [
        "from prometheus_api_client import Metric, MetricsList, PrometheusConnect\n",
        "from prometheus_api_client.utils import parse_datetime, parse_timedelta\n",
        "import matplotlib.pyplot as plt\n",
        "import warnings\n",
        "warnings.filterwarnings('ignore')\n",
        "%matplotlib inline"
      ],
      "execution_count": 0,
      "outputs": []
    },
    {
      "cell_type": "code",
      "metadata": {
        "id": "vmiw94FxLwEv",
        "colab_type": "code",
        "colab": {
          "base_uri": "https://localhost:8080/",
          "height": 370
        },
        "outputId": "6a38638d-9c4b-4f42-c2ff-424d0745814d"
      },
      "source": [
        "link1 = \"https://prometheus-data-science-on-the-moc-openshift.k-apps.osh.massopen.cloud\"\n",
        "link = \"http://prometheus-lts-data-science-on-the-moc-openshift.k-apps.osh.massopen.cloud\"\n",
        "pc = PrometheusConnect(url=link, disable_ssl=True)\n",
        "\n",
        "start_time = parse_datetime(\"3d\")\n",
        "end_time = parse_datetime(\"now\")\n",
        "chunk_size = parse_timedelta(\"now\", \"1d\")\n",
        "\n",
        "\n",
        "metric1 = 'request_duration_seconds_count{app=\"jupyterhub\",code=\"200\",deployment=\"jupyterhub-7\",deploymentconfig=\"jupyterhub\",handler=\"jupyterhub.handlers.metrics.MetricsHandler\",instance=\"10.128.5.199:8080\",job=\"kubernetes-pods\",kubernetes_namespace=\"data-science-on-the-moc-openshift\",kubernetes_pod_name=\"jupyterhub-7-hd8d9\",method=\"GET\"}'\n",
        "metric2 = 'scrape_duration_seconds{app=\"jupyterhub\",deployment=\"jupyterhub-7\",deploymentconfig=\"jupyterhub\",instance=\"10.128.5.199:8080\",job=\"kubernetes-pods\",kubernetes_namespace=\"data-science-on-the-moc-openshift\",kubernetes_pod_name=\"jupyterhub-7-hd8d9\"}'\n",
        "\n",
        "metric_data = pc.get_metric_range_data(\n",
        "    metric1,\n",
        "    start_time=start_time,\n",
        "    end_time=end_time,\n",
        "    chunk_size=chunk_size,\n",
        ")\n",
        "\n",
        "metrics_object_list = MetricsList(metric_data)\n",
        "print(len(metrics_object_list))\n",
        "for item in metrics_object_list:\n",
        "    print(type(item))\n",
        "    \n",
        "for item in metrics_object_list:\n",
        "    print(item.metric_name, item.label_config, \"\\n\")\n",
        "    \n",
        "my_metric_object = metrics_object_list[0] # one of the metrics from the list\n",
        "\n",
        "my_metric_object.metric_values['y'].plot()"
      ],
      "execution_count": 133,
      "outputs": [
        {
          "output_type": "stream",
          "text": [
            "1\n",
            "<class 'prometheus_api_client.metric.Metric'>\n",
            "request_duration_seconds_count {'app': 'jupyterhub', 'code': '200', 'deployment': 'jupyterhub-7', 'deploymentconfig': 'jupyterhub', 'handler': 'jupyterhub.handlers.metrics.MetricsHandler', 'instance': '10.128.5.199:8080', 'job': 'kubernetes-pods', 'kubernetes_namespace': 'data-science-on-the-moc-openshift', 'kubernetes_pod_name': 'jupyterhub-7-hd8d9', 'method': 'GET'} \n",
            "\n"
          ],
          "name": "stdout"
        },
        {
          "output_type": "execute_result",
          "data": {
            "text/plain": [
              "<matplotlib.axes._subplots.AxesSubplot at 0x7f8ccdf156d8>"
            ]
          },
          "metadata": {
            "tags": []
          },
          "execution_count": 133
        },
        {
          "output_type": "display_data",
          "data": {
            "image/png": "[encoded data removed]",
            "text/plain": [
              "<Figure size 432x288 with 1 Axes>"
            ]
          },
          "metadata": {
            "tags": [],
            "needs_background": "light"
          }
        }
      ]
    },
    {
      "cell_type": "code",
      "metadata": {
        "id": "9_DVj3M9M5YI",
        "colab_type": "code",
        "colab": {}
      },
      "source": [
        "# Important Functions and Imports\n",
        "from sklearn.preprocessing import MinMaxScaler\n",
        "from matplotlib import pyplot as plt\n",
        "import pandas as pd\n",
        "import numpy as np\n",
        "from keras.models import Sequential\n",
        "from keras.layers import Dense, LSTM\n",
        "from sklearn.metrics import mean_squared_error as mse\n",
        "from sklearn.preprocessing import MinMaxScaler\n",
        "\n",
        "def process_data(number_of_features, train_test_split_ratio, df):\n",
        "  np_arr = df.values\n",
        "  scaler = MinMaxScaler(feature_range = (0, 1))\n",
        "  scaled_np_arr = scaler.fit_transform(np_arr[:,1].reshape(-1, 1))\n",
        "  np_arr[:,1] = scaled_np_arr.flatten()\n",
        "\n",
        "  train = np_arr[:int(np_arr.shape[0]*train_test_split_ratio),:]\n",
        "  test = np_arr[int(np_arr.shape[0]*train_test_split_ratio):,:]\n",
        "\n",
        "  train_x = np.array(train[:,1])[np.newaxis, :].T\n",
        "  test_x = np.array(test[:,1])[np.newaxis, :].T\n",
        "  for i in range(number_of_features):\n",
        "    train_x = np.concatenate((train_x, np.roll(train[:,1],-i)[np.newaxis,:].T), axis=1)\n",
        "    test_x = np.concatenate((test_x, np.roll(test[:,1],-i)[np.newaxis,:].T), axis=1)\n",
        "\n",
        "  train_x = train_x[:train_x.shape[0]-number_of_features,:number_of_features]\n",
        "  test_x = test_x[:test_x.shape[0]-number_of_features,:number_of_features]\n",
        "\n",
        "  train_y = np.roll(train[:,1],-number_of_features)\n",
        "  train_y = train_y[:train_y.shape[0]-number_of_features]\n",
        "\n",
        "  test_y = np.roll(test[:,1],-number_of_features)\n",
        "  test_y = test_y[:test_y.shape[0]-number_of_features]\n",
        "  train_x = train_x.reshape(train_x.shape[0],1,train_x.shape[1])\n",
        "  test_x = test_x.reshape(test_x.shape[0],1,test_x.shape[1])\n",
        "  \n",
        "  return (train_x, train_y, test_x, test_y, scaler)\n",
        "\n",
        "class Specs:\n",
        "  def __init__(self, DenseCount = 0, LSTMCount = 0, epochs = 0, loss = np.inf):\n",
        "    self.DenseCount = DenseCount\n",
        "    self.LSTMCount = LSTMCount\n",
        "    self.loss = loss\n",
        "    self.epochs = epochs\n",
        "\n",
        "  def __str__(self):\n",
        "    return str(self.LSTMCount) + \" \" + str(self.DenseCount) + \" \" + str(self.epochs)  + \" \" + str(self.loss)\n",
        " \n",
        "def trainLSTM(specs, final = False):\n",
        "  model = Sequential()\n",
        "  model.add(LSTM(64, return_sequences = True, input_shape=(1,number_of_features)))\n",
        "  model.add(LSTM(specs.LSTMCount))\n",
        "  model.add(Dense(specs.DenseCount))\n",
        "  model.add(Dense(1))\n",
        "\n",
        "  model.compile(loss='mean_squared_error', optimizer='adam')\n",
        "  if final:\n",
        "    history = model.fit(train_x, train_y, epochs = specs.epochs, batch_size = 512, verbose = 2)\n",
        "  else:\n",
        "    history = model.fit(train_x, train_y, epochs = specs.epochs, batch_size = 512, verbose = 0, validation_split=0.2)\n",
        "  \n",
        "  return (model, history)\n",
        "\n",
        "def loss_curve(history, final = False):\n",
        "  train_loss = history.history['loss']\n",
        "  if not final:\n",
        "    val_loss = history.history['val_loss']\n",
        "\n",
        "  x_axis = range(1, len(history.history['loss'])+1)\n",
        "  \n",
        "  plt.figure()\n",
        "  plt.plot(x_axis, train_loss, label=\"Training Loss\")\n",
        "  \n",
        "  if not final:\n",
        "    plt.plot(x_axis, val_loss, label=\"Validation Loss\")\n",
        "\n",
        "  plt.ylabel('Loss Value')\n",
        "  plt.xlabel('Epochs')\n",
        "  plt.title('Epochs vs Loss')\n",
        "  plt.legend()\n",
        "  \n",
        "  if not final:\n",
        "    print('Minimum Validation Loss is:' + str(min(val_loss)))\n",
        "    print('Epoch: ' + str(val_loss.index(min(val_loss)) + 1))"
      ],
      "execution_count": 0,
      "outputs": []
    },
    {
      "cell_type": "code",
      "metadata": {
        "id": "SoLpZRYkMD_6",
        "colab_type": "code",
        "outputId": "c0f6dda3-f70e-4a04-b27f-812423e68f92",
        "colab": {
          "base_uri": "https://localhost:8080/",
          "height": 85
        }
      },
      "source": [
        "number_of_features = 10\n",
        "(train_x, train_y, test_x, test_y, scaler) = process_data(number_of_features, 0.8, my_metric_object.metric_values)\n",
        "\n",
        "# Tuning Hyperparameters\n",
        "bestSpecs = Specs()\n",
        "for i in range(5, 8):\n",
        "  LSTMCount = 2**i\n",
        "  for j in range(5, 8):\n",
        "    DenseCount = 2**j\n",
        "\n",
        "    newSpecs = Specs(DenseCount, LSTMCount, 50)\n",
        "\n",
        "    model, history = trainLSTM(newSpecs)\n",
        "    val_loss = history.history['val_loss']\n",
        "    loss = min(val_loss)\n",
        "    \n",
        "    if (loss < bestSpecs.loss):\n",
        "      bestSpecs = newSpecs\n",
        "      bestSpecs.loss = loss\n",
        "      bestSpecs.epochs = val_loss.index(min(val_loss)) + 1\n",
        "      print(\"New Results:\", bestSpecs)"
      ],
      "execution_count": 135,
      "outputs": [
        {
          "output_type": "stream",
          "text": [
            "New Results: 32 32 50 0.00011795177023209956\n",
            "New Results: 32 64 50 2.249104007310909e-05\n",
            "New Results: 32 128 50 5.4938533278049285e-06\n",
            "New Results: 64 128 8 1.945860487361695e-06\n"
          ],
          "name": "stdout"
        }
      ]
    },
    {
      "cell_type": "code",
      "metadata": {
        "id": "QyiqWPaOfc9v",
        "colab_type": "code",
        "colab": {
          "base_uri": "https://localhost:8080/",
          "height": 1000
        },
        "outputId": "8a5cd235-2bed-47d4-bfc1-d03bffbe13bd"
      },
      "source": [
        "# Train final model\n",
        "finalModelFlag = True\n",
        "bestSpecs.epochs = 50\n",
        "print(\"Now training on\", bestSpecs)\n",
        "finalmodel, history = trainLSTM(bestSpecs, finalModelFlag)\n",
        "loss_curve(history, finalModelFlag)"
      ],
      "execution_count": 143,
      "outputs": [
        {
          "output_type": "stream",
          "text": [
            "Now training on 64 128 50 1.945860487361695e-06\n",
            "Epoch 1/50\n",
            " - 9s - loss: 0.1525\n",
            "Epoch 2/50\n",
            " - 0s - loss: 0.0419\n",
            "Epoch 3/50\n",
            " - 0s - loss: 0.0263\n",
            "Epoch 4/50\n",
            " - 0s - loss: 0.0172\n",
            "Epoch 5/50\n",
            " - 0s - loss: 0.0142\n",
            "Epoch 6/50\n",
            " - 0s - loss: 0.0085\n",
            "Epoch 7/50\n",
            " - 0s - loss: 0.0055\n",
            "Epoch 8/50\n",
            " - 0s - loss: 0.0024\n",
            "Epoch 9/50\n",
            " - 0s - loss: 0.0011\n",
            "Epoch 10/50\n",
            " - 0s - loss: 4.1669e-04\n",
            "Epoch 11/50\n",
            " - 0s - loss: 2.1442e-04\n",
            "Epoch 12/50\n",
            " - 0s - loss: 2.0871e-04\n",
            "Epoch 13/50\n",
            " - 0s - loss: 2.0844e-04\n",
            "Epoch 14/50\n",
            " - 0s - loss: 1.8139e-04\n",
            "Epoch 15/50\n",
            " - 0s - loss: 1.5426e-04\n",
            "Epoch 16/50\n",
            " - 0s - loss: 1.3758e-04\n",
            "Epoch 17/50\n",
            " - 0s - loss: 1.2914e-04\n",
            "Epoch 18/50\n",
            " - 0s - loss: 1.2191e-04\n",
            "Epoch 19/50\n",
            " - 0s - loss: 1.1467e-04\n",
            "Epoch 20/50\n",
            " - 0s - loss: 1.0742e-04\n",
            "Epoch 21/50\n",
            " - 0s - loss: 1.0045e-04\n",
            "Epoch 22/50\n",
            " - 0s - loss: 9.3912e-05\n",
            "Epoch 23/50\n",
            " - 0s - loss: 8.7655e-05\n",
            "Epoch 24/50\n",
            " - 0s - loss: 8.1599e-05\n",
            "Epoch 25/50\n",
            " - 0s - loss: 7.5797e-05\n",
            "Epoch 26/50\n",
            " - 0s - loss: 7.0392e-05\n",
            "Epoch 27/50\n",
            " - 0s - loss: 6.5079e-05\n",
            "Epoch 28/50\n",
            " - 0s - loss: 6.0121e-05\n",
            "Epoch 29/50\n",
            " - 0s - loss: 5.5453e-05\n",
            "Epoch 30/50\n",
            " - 0s - loss: 5.0931e-05\n",
            "Epoch 31/50\n",
            " - 0s - loss: 4.6857e-05\n",
            "Epoch 32/50\n",
            " - 0s - loss: 4.2829e-05\n",
            "Epoch 33/50\n",
            " - 0s - loss: 3.9114e-05\n",
            "Epoch 34/50\n",
            " - 0s - loss: 3.5722e-05\n",
            "Epoch 35/50\n",
            " - 0s - loss: 3.2536e-05\n",
            "Epoch 36/50\n",
            " - 0s - loss: 2.9653e-05\n",
            "Epoch 37/50\n",
            " - 0s - loss: 2.6864e-05\n",
            "Epoch 38/50\n",
            " - 0s - loss: 2.4365e-05\n",
            "Epoch 39/50\n",
            " - 0s - loss: 2.2057e-05\n",
            "Epoch 40/50\n",
            " - 0s - loss: 1.9909e-05\n",
            "Epoch 41/50\n",
            " - 0s - loss: 1.8003e-05\n",
            "Epoch 42/50\n",
            " - 0s - loss: 1.6213e-05\n",
            "Epoch 43/50\n",
            " - 0s - loss: 1.4620e-05\n",
            "Epoch 44/50\n",
            " - 0s - loss: 1.3179e-05\n",
            "Epoch 45/50\n",
            " - 0s - loss: 1.1877e-05\n",
            "Epoch 46/50\n",
            " - 0s - loss: 1.0707e-05\n",
            "Epoch 47/50\n",
            " - 0s - loss: 9.6183e-06\n",
            "Epoch 48/50\n",
            " - 0s - loss: 8.6610e-06\n",
            "Epoch 49/50\n",
            " - 0s - loss: 7.8263e-06\n",
            "Epoch 50/50\n",
            " - 0s - loss: 7.0620e-06\n"
          ],
          "name": "stdout"
        },
        {
          "output_type": "display_data",
          "data": {
            "image/png": "[encoded data removed]",
            "text/plain": [
              "<Figure size 432x288 with 1 Axes>"
            ]
          },
          "metadata": {
            "tags": [],
            "needs_background": "light"
          }
        }
      ]
    },
    {
      "cell_type": "code",
      "metadata": {
        "id": "jWSarbE9MF0Q",
        "colab_type": "code",
        "outputId": "f028f811-2621-405f-895c-e76f3991d2d0",
        "colab": {
          "base_uri": "https://localhost:8080/",
          "height": 299
        }
      },
      "source": [
        "# Evaluate Test Predictions\n",
        "pred_t = finalmodel.predict(test_x)\n",
        "pred_t_inverse = scaler.inverse_transform(pred_t)\n",
        "test_y_inverse = scaler.inverse_transform(test_y.reshape(-1, 1))\n",
        "\n",
        "print(\"Results\")\n",
        "plt.figure()\n",
        "plt.plot(test_y_inverse, label = 'actual')\n",
        "# plt.legend()\n",
        "# plt.figure()\n",
        "plt.plot(pred_t_inverse, label = 'pred')\n",
        "plt.legend()\n",
        "plt.show()\n",
        "\n",
        "print(mse(pred_t_inverse, test_y_inverse))"
      ],
      "execution_count": 144,
      "outputs": [
        {
          "output_type": "stream",
          "text": [
            "Results\n"
          ],
          "name": "stdout"
        },
        {
          "output_type": "display_data",
          "data": {
            "image/png": "[encoded data removed]",
            "text/plain": [
              "<Figure size 432x288 with 1 Axes>"
            ]
          },
          "metadata": {
            "tags": [],
            "needs_background": "light"
          }
        },
        {
          "output_type": "stream",
          "text": [
            "621.5296928374495\n"
          ],
          "name": "stdout"
        }
      ]
    }
  ]
}